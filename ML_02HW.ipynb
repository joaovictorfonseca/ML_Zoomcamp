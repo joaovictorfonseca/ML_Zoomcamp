{
 "cells": [
  {
   "cell_type": "code",
   "execution_count": 14,
   "metadata": {},
   "outputs": [],
   "source": [
    "import pandas as pd\n",
    "import numpy as np"
   ]
  },
  {
   "cell_type": "code",
   "execution_count": 50,
   "metadata": {},
   "outputs": [],
   "source": [
    "url = \"https://raw.githubusercontent.com/alexeygrigorev/datasets/master/housing.csv\"\n",
    "data = pd.read_csv(url)"
   ]
  },
  {
   "cell_type": "code",
   "execution_count": 52,
   "metadata": {},
   "outputs": [],
   "source": [
    "data = data[(data['ocean_proximity']=='INLAND') | (data['ocean_proximity']=='<1H OCEAN')]\n",
    "df = data[['latitude',\n",
    "'longitude',\n",
    "'housing_median_age',\n",
    "'total_rooms',\n",
    "'total_bedrooms',\n",
    "'population',\n",
    "'households',\n",
    "'median_income',\n",
    "'median_house_value']].copy()"
   ]
  },
  {
   "cell_type": "markdown",
   "metadata": {},
   "source": [
    "# Question 1\n",
    "\n"
   ]
  },
  {
   "cell_type": "code",
   "execution_count": 12,
   "metadata": {},
   "outputs": [
    {
     "data": {
      "text/html": [
       "<pre style=\"white-space:pre;overflow-x:auto;line-height:normal;font-family:Menlo,'DejaVu Sans Mono',consolas,'Courier New',monospace\">\n",
       "latitude                <span style=\"color: #008080; text-decoration-color: #008080; font-weight: bold\">0</span>\n",
       "longitude               <span style=\"color: #008080; text-decoration-color: #008080; font-weight: bold\">0</span>\n",
       "housing_median_age      <span style=\"color: #008080; text-decoration-color: #008080; font-weight: bold\">0</span>\n",
       "total_rooms             <span style=\"color: #008080; text-decoration-color: #008080; font-weight: bold\">0</span>\n",
       "total_bedrooms        <span style=\"color: #008080; text-decoration-color: #008080; font-weight: bold\">157</span>\n",
       "population              <span style=\"color: #008080; text-decoration-color: #008080; font-weight: bold\">0</span>\n",
       "households              <span style=\"color: #008080; text-decoration-color: #008080; font-weight: bold\">0</span>\n",
       "median_income           <span style=\"color: #008080; text-decoration-color: #008080; font-weight: bold\">0</span>\n",
       "median_house_value      <span style=\"color: #008080; text-decoration-color: #008080; font-weight: bold\">0</span>\n",
       "dtype: int64\n",
       "</pre>\n"
      ],
      "text/plain": [
       "\n",
       "latitude                \u001b[1;36m0\u001b[0m\n",
       "longitude               \u001b[1;36m0\u001b[0m\n",
       "housing_median_age      \u001b[1;36m0\u001b[0m\n",
       "total_rooms             \u001b[1;36m0\u001b[0m\n",
       "total_bedrooms        \u001b[1;36m157\u001b[0m\n",
       "population              \u001b[1;36m0\u001b[0m\n",
       "households              \u001b[1;36m0\u001b[0m\n",
       "median_income           \u001b[1;36m0\u001b[0m\n",
       "median_house_value      \u001b[1;36m0\u001b[0m\n",
       "dtype: int64\n"
      ]
     },
     "metadata": {},
     "output_type": "display_data"
    }
   ],
   "source": [
    "df.isna().sum()"
   ]
  },
  {
   "cell_type": "markdown",
   "metadata": {},
   "source": [
    "# Question 2"
   ]
  },
  {
   "cell_type": "code",
   "execution_count": 13,
   "metadata": {},
   "outputs": [
    {
     "data": {
      "text/html": [
       "<pre style=\"white-space:pre;overflow-x:auto;line-height:normal;font-family:Menlo,'DejaVu Sans Mono',consolas,'Courier New',monospace\"><span style=\"color: #008080; text-decoration-color: #008080; font-weight: bold\">1195.0</span>\n",
       "</pre>\n"
      ],
      "text/plain": [
       "\u001b[1;36m1195.0\u001b[0m\n"
      ]
     },
     "metadata": {},
     "output_type": "display_data"
    }
   ],
   "source": [
    "df.population.median()"
   ]
  },
  {
   "cell_type": "markdown",
   "metadata": {},
   "source": [
    "# Question 3"
   ]
  },
  {
   "cell_type": "code",
   "execution_count": 53,
   "metadata": {},
   "outputs": [],
   "source": [
    "n = len(df)\n",
    "n_val = int(n * 0.2)\n",
    "n_test = int(n * 0.2)\n",
    "n_train = n - n_val - n_test"
   ]
  },
  {
   "cell_type": "code",
   "execution_count": 54,
   "metadata": {},
   "outputs": [],
   "source": [
    "df['median_house_value'] = np.log1p(df['median_house_value'])"
   ]
  },
  {
   "cell_type": "code",
   "execution_count": 55,
   "metadata": {},
   "outputs": [],
   "source": [
    "df_train = df.iloc[:n_train]\n",
    "df_val = df.iloc[n_train:n_train+n_val]\n",
    "df_test = df.iloc[n_train+n_val:]\n",
    "del df_train['median_house_value']\n",
    "del df_val['median_house_value']\n",
    "del df_test['median_house_value']\n",
    "idx = np.arange(n)\n",
    "np.random.seed(42)\n",
    "np.random.shuffle(idx)\n",
    "df_train = df.iloc[idx[:n_train]]\n",
    "df_val = df.iloc[idx[n_train:n_train+n_val]]\n",
    "df_test = df.iloc[idx[n_train+n_val:]]"
   ]
  },
  {
   "cell_type": "code",
   "execution_count": 56,
   "metadata": {},
   "outputs": [],
   "source": [
    "y_train = np.log1p(df_train.median_house_value.values)\n",
    "y_val = np.log1p(df_val.median_house_value.values)\n",
    "y_test = np.log1p(df_test.median_house_value.values)"
   ]
  },
  {
   "cell_type": "code",
   "execution_count": 57,
   "metadata": {},
   "outputs": [],
   "source": [
    "def fill_X(df,value):\n",
    "    df_num = df.copy()\n",
    "    df_num = df_num.fillna(value)\n",
    "    X = df_num.values\n",
    "    return X\n",
    "def train_LR(X, y):\n",
    "    X = np.column_stack([np.ones(X.shape[0]), X])\n",
    "    XTX = X.T@X\n",
    "    inv = np.linalg.inv(XTX)\n",
    "    w = inv@X.T@y\n",
    "    return w"
   ]
  },
  {
   "cell_type": "code",
   "execution_count": 58,
   "metadata": {},
   "outputs": [],
   "source": [
    "Avg_TtBed = df_train.total_bedrooms.mean()\n",
    "\n",
    "X1_train = fill_X(df_train,Avg_TtBed)\n",
    "X2_train =  fill_X(df_train,0)\n",
    "\n",
    "X1_val = fill_X(df_val,Avg_TtBed)\n",
    "X2_val =  fill_X(df_val,0)\n",
    "w1 = train_LR(X1_train,y_train)\n",
    "w2 = train_LR(X2_train,y_train)\n",
    "def rmse(y, y_pred):\n",
    "    v = y-y_pred\n",
    "    v = v**2 \n",
    "    v = v.mean()\n",
    "    v = np.sqrt(v)\n",
    "    return v\n"
   ]
  },
  {
   "cell_type": "code",
   "execution_count": 59,
   "metadata": {},
   "outputs": [
    {
     "name": "stdout",
     "output_type": "stream",
     "text": [
      "0.0 0.0\n"
     ]
    }
   ],
   "source": [
    "y1_pred = w1[0] + X1_val@w1[1:]\n",
    "y2_pred = w2[0] + X2_val@w2[1:]\n",
    "print(round(rmse(y_val,y1_pred),2),round(rmse(y_val,y2_pred),2))"
   ]
  },
  {
   "cell_type": "markdown",
   "metadata": {},
   "source": [
    "# Question 4"
   ]
  },
  {
   "cell_type": "code",
   "execution_count": 64,
   "metadata": {},
   "outputs": [],
   "source": [
    "def train_linear_regression_reg(X, y, r=0.001):\n",
    "    X = np.column_stack([np.ones(X.shape[0]), X])\n",
    "    XTX = X.T@X + r* np.eye(X.shape[1])\n",
    "    inv = np.linalg.inv(XTX)\n",
    "    w = inv@X.T@y\n",
    "    return w"
   ]
  },
  {
   "cell_type": "code",
   "execution_count": 67,
   "metadata": {},
   "outputs": [
    {
     "name": "stdout",
     "output_type": "stream",
     "text": [
      "0 0.0\n",
      "1e-06 0.0\n",
      "0.0001 0.0\n",
      "0.001 0.0\n",
      "0.01 0.0\n",
      "0.1 0.0\n",
      "1 0.01\n",
      "5 0.01\n",
      "10 0.01\n"
     ]
    }
   ],
   "source": [
    "for r in [0, 0.000001, 0.0001, 0.001, 0.01, 0.1, 1, 5, 10]:\n",
    "    X_train = df_train\n",
    "    w = train_linear_regression_reg(X2_train, y_train, r=r)\n",
    "    y_pred = w[0] + X2_val@w[1:]\n",
    "    score = round(rmse(y_val, y_pred),2)\n",
    "    \n",
    "    print(r,score)"
   ]
  },
  {
   "cell_type": "markdown",
   "metadata": {},
   "source": [
    "# Question 5"
   ]
  },
  {
   "cell_type": "code",
   "execution_count": 78,
   "metadata": {},
   "outputs": [],
   "source": [
    "def train_test_split(df,idx):\n",
    "    df_train = df.iloc[idx[:n_train]]\n",
    "    df_val = df.iloc[idx[n_train:n_train+n_val]]\n",
    "    df_test = df.iloc[idx[n_train+n_val:]]\n",
    "\n",
    "    y_train = np.log1p(df_train.median_house_value.values)\n",
    "    y_val = np.log1p(df_val.median_house_value.values)\n",
    "    y_test = np.log1p(df_test.median_house_value.values)\n",
    "    \n",
    "    del df_train['median_house_value']\n",
    "    del df_val['median_house_value']\n",
    "    del df_test['median_house_value']\n",
    "    \n",
    "    return  df_train, df_val, df_test, y_train, y_val, y_test"
   ]
  },
  {
   "cell_type": "code",
   "execution_count": 86,
   "metadata": {},
   "outputs": [],
   "source": [
    "seed_list = [0, 1, 2, 3, 4, 5, 6, 7, 8, 9]\n",
    "scores = []\n",
    "\n",
    "for seed in seed_list:\n",
    "    idx = np.arange(n)\n",
    "\n",
    "    np.random.seed(seed)\n",
    "    np.random.shuffle(idx)\n",
    "\n",
    "    df_train, df_val, df_test, y_train, y_val, y_test = train_test_split(df,idx)\n",
    "    \n",
    "    X_train =  fill_X(df_train,0)\n",
    "    X_val =  fill_X(df_val,0)\n",
    "    \n",
    "    w = train_linear_regression_reg(X_train,y_train)\n",
    "    y_pred = w[0] + X_val@w[1:]\n",
    "    \n",
    "    scores.append(rmse(y_val,y_pred))"
   ]
  },
  {
   "cell_type": "code",
   "execution_count": 88,
   "metadata": {},
   "outputs": [
    {
     "data": {
      "text/html": [
       "<pre style=\"white-space:pre;overflow-x:auto;line-height:normal;font-family:Menlo,'DejaVu Sans Mono',consolas,'Courier New',monospace\"><span style=\"color: #008080; text-decoration-color: #008080; font-weight: bold\">0.0</span>\n",
       "</pre>\n"
      ],
      "text/plain": [
       "\u001b[1;36m0.0\u001b[0m\n"
      ]
     },
     "metadata": {},
     "output_type": "display_data"
    }
   ],
   "source": [
    "round(np.std(np.array(scores)),3)"
   ]
  },
  {
   "cell_type": "markdown",
   "metadata": {},
   "source": [
    "# Question 6"
   ]
  },
  {
   "cell_type": "code",
   "execution_count": 92,
   "metadata": {},
   "outputs": [
    {
     "name": "stdout",
     "output_type": "stream",
     "text": [
      "0.03\n"
     ]
    }
   ],
   "source": [
    "idx = np.arange(n)\n",
    "\n",
    "np.random.seed(9)\n",
    "np.random.shuffle(idx)\n",
    "\n",
    "df_train, df_val, df_test, y_train, y_val, y_test = train_test_split(df,idx)    \n",
    "\n",
    "    \n",
    "X_train =  fill_X(df_train,0)\n",
    "X_val =  fill_X(df_val,0)\n",
    "X_test = fill_X(df_test,0)\n",
    "\n",
    "X_train = np.vstack([X_train,X_val])\n",
    "y_train = np.hstack([y_train,y_val])\n",
    "\n",
    "\n",
    "w = train_linear_regression_reg(X_train,y_train,0.001)\n",
    "y_pred = w[0] + X_test@w[1:]\n",
    "    \n",
    "print(round(rmse(y_test,y_pred),2))"
   ]
  }
 ],
 "metadata": {
  "kernelspec": {
   "display_name": "Kedro (risk_pipeline)",
   "language": "python",
   "name": "kedro_risk_pipeline"
  },
  "language_info": {
   "codemirror_mode": {
    "name": "ipython",
    "version": 3
   },
   "file_extension": ".py",
   "mimetype": "text/x-python",
   "name": "python",
   "nbconvert_exporter": "python",
   "pygments_lexer": "ipython3",
   "version": "3.9.12"
  },
  "orig_nbformat": 4
 },
 "nbformat": 4,
 "nbformat_minor": 2
}
